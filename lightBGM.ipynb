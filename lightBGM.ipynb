{
 "cells": [
  {
   "cell_type": "markdown",
   "metadata": {},
   "source": [
    "# LightBGM应用"
   ]
  },
  {
   "cell_type": "code",
   "execution_count": 1,
   "metadata": {},
   "outputs": [
    {
     "name": "stderr",
     "output_type": "stream",
     "text": [
      "C:\\Anaconda3\\lib\\site-packages\\sklearn\\utils\\fixes.py:313: FutureWarning: numpy not_equal will not check object identity in the future. The comparison did not return the same result as suggested by the identity (`is`)) and will change.\n",
      "  _nan_object_mask = _nan_object_array != _nan_object_array\n"
     ]
    }
   ],
   "source": [
    "import datetime\n",
    "import numpy as np\n",
    "import pandas as pd\n",
    "import lightgbm as lgb\n",
    "from sklearn.datasets import load_breast_cancer\n",
    "from sklearn.model_selection import train_test_split\n",
    "from sklearn.metrics import accuracy_score\n",
    "import matplotlib.pyplot as plt\n",
    "%matplotlib inline"
   ]
  },
  {
   "cell_type": "code",
   "execution_count": 2,
   "metadata": {},
   "outputs": [],
   "source": [
    "# 加载数据集\n",
    "breast = load_breast_cancer()\n",
    "# 获取特征值和目标指\n",
    "X,y = breast.data,breast.target\n",
    "# 获取特征名称\n",
    "feature_name = breast.feature_names"
   ]
  },
  {
   "cell_type": "code",
   "execution_count": 3,
   "metadata": {
    "collapsed": true
   },
   "outputs": [],
   "source": [
    "# 数据集划分\n",
    "X_train, X_test, y_train, y_test = train_test_split(X, y, test_size=0.2, random_state=0)"
   ]
  },
  {
   "cell_type": "code",
   "execution_count": 4,
   "metadata": {
    "collapsed": true
   },
   "outputs": [],
   "source": [
    "# 数据格式转换\n",
    "lgb_train = lgb.Dataset(X_train, y_train)\n",
    "lgb_eval = lgb.Dataset(X_test, y_test, reference=lgb_train)"
   ]
  },
  {
   "cell_type": "code",
   "execution_count": 5,
   "metadata": {
    "collapsed": true
   },
   "outputs": [],
   "source": [
    "# 参数设置\n",
    "boost_round = 50 # 迭代次数              \n",
    "early_stop_rounds = 10 # 验证数据若在early_stop_rounds轮中未提高，则提前停止\n",
    "\n",
    "params = {\n",
    "    'boosting_type': 'gbdt',  # 设置提升类型\n",
    "    'objective': 'regression',  # 目标函数\n",
    "    'metric': {'l2', 'auc'},  # 评估函数\n",
    "    'num_leaves': 31,  # 叶子节点数\n",
    "    'learning_rate': 0.05,  # 学习速率\n",
    "    'feature_fraction': 0.9,  # 建树的特征选择比例\n",
    "    'bagging_fraction': 0.8,  # 建树的样本采样比例\n",
    "    'bagging_freq': 5,  # k 意味着每 k 次迭代执行bagging\n",
    "    'verbose': 1  # <0 显示致命的, =0 显示错误 (警告), >0 显示信息\n",
    "}"
   ]
  },
  {
   "cell_type": "code",
   "execution_count": 6,
   "metadata": {},
   "outputs": [
    {
     "name": "stdout",
     "output_type": "stream",
     "text": [
      "[1]\ttrain's auc: 0.94953\ttrain's l2: 0.762479\tvalidate's auc: 0.95443\tvalidate's l2: 0.731322\n",
      "Train until valid scores didn't improve in 10 rounds.\n",
      "[2]\ttrain's auc: 0.963417\ttrain's l2: 0.728926\tvalidate's auc: 0.964433\tvalidate's l2: 0.699406\n",
      "[3]\ttrain's auc: 0.98023\ttrain's l2: 0.697226\tvalidate's auc: 0.98444\tvalidate's l2: 0.669713\n",
      "[4]\ttrain's auc: 0.979143\ttrain's l2: 0.66695\tvalidate's auc: 0.983963\tvalidate's l2: 0.639856\n",
      "[5]\ttrain's auc: 0.980021\ttrain's l2: 0.638529\tvalidate's auc: 0.983963\tvalidate's l2: 0.613014\n",
      "[6]\ttrain's auc: 0.981829\ttrain's l2: 0.611936\tvalidate's auc: 0.98301\tvalidate's l2: 0.588542\n",
      "[7]\ttrain's auc: 0.985601\ttrain's l2: 0.586151\tvalidate's auc: 0.988568\tvalidate's l2: 0.563377\n",
      "[8]\ttrain's auc: 0.986311\ttrain's l2: 0.562219\tvalidate's auc: 0.98825\tvalidate's l2: 0.541396\n",
      "[9]\ttrain's auc: 0.986959\ttrain's l2: 0.539217\tvalidate's auc: 0.990156\tvalidate's l2: 0.518326\n",
      "[10]\ttrain's auc: 0.987126\ttrain's l2: 0.517841\tvalidate's auc: 0.991108\tvalidate's l2: 0.498694\n",
      "[11]\ttrain's auc: 0.988286\ttrain's l2: 0.496492\tvalidate's auc: 0.993014\tvalidate's l2: 0.478704\n",
      "[12]\ttrain's auc: 0.988046\ttrain's l2: 0.476393\tvalidate's auc: 0.993649\tvalidate's l2: 0.459792\n",
      "[13]\ttrain's auc: 0.988568\ttrain's l2: 0.457508\tvalidate's auc: 0.994601\tvalidate's l2: 0.442167\n",
      "[14]\ttrain's auc: 0.988673\ttrain's l2: 0.439755\tvalidate's auc: 0.994919\tvalidate's l2: 0.42532\n",
      "[15]\ttrain's auc: 0.988359\ttrain's l2: 0.422967\tvalidate's auc: 0.995078\tvalidate's l2: 0.40924\n",
      "[16]\ttrain's auc: 0.987816\ttrain's l2: 0.407529\tvalidate's auc: 0.995078\tvalidate's l2: 0.394642\n",
      "[17]\ttrain's auc: 0.988652\ttrain's l2: 0.392988\tvalidate's auc: 0.995237\tvalidate's l2: 0.38097\n",
      "[18]\ttrain's auc: 0.988485\ttrain's l2: 0.379375\tvalidate's auc: 0.995237\tvalidate's l2: 0.36829\n",
      "[19]\ttrain's auc: 0.98861\ttrain's l2: 0.366827\tvalidate's auc: 0.995237\tvalidate's l2: 0.356246\n",
      "[20]\ttrain's auc: 0.988913\ttrain's l2: 0.354854\tvalidate's auc: 0.994601\tvalidate's l2: 0.345764\n",
      "[21]\ttrain's auc: 0.989269\ttrain's l2: 0.343275\tvalidate's auc: 0.994601\tvalidate's l2: 0.334725\n",
      "[22]\ttrain's auc: 0.989352\ttrain's l2: 0.332701\tvalidate's auc: 0.994601\tvalidate's l2: 0.32471\n",
      "[23]\ttrain's auc: 0.989373\ttrain's l2: 0.322552\tvalidate's auc: 0.994601\tvalidate's l2: 0.315033\n",
      "[24]\ttrain's auc: 0.989331\ttrain's l2: 0.313069\tvalidate's auc: 0.995237\tvalidate's l2: 0.30568\n",
      "[25]\ttrain's auc: 0.989415\ttrain's l2: 0.304226\tvalidate's auc: 0.995237\tvalidate's l2: 0.297238\n",
      "[26]\ttrain's auc: 0.98954\ttrain's l2: 0.296083\tvalidate's auc: 0.994919\tvalidate's l2: 0.289386\n",
      "[27]\ttrain's auc: 0.989519\ttrain's l2: 0.28868\tvalidate's auc: 0.995237\tvalidate's l2: 0.2823\n",
      "Early stopping, best iteration is:\n",
      "[17]\ttrain's auc: 0.988652\ttrain's l2: 0.392988\tvalidate's auc: 0.995237\tvalidate's l2: 0.38097\n"
     ]
    }
   ],
   "source": [
    "# 模型训练:加入提前停止的功能\n",
    "results = {}\n",
    "gbm = lgb.train(params,\n",
    "                lgb_train,\n",
    "                num_boost_round= boost_round,\n",
    "                valid_sets=(lgb_eval, lgb_train),\n",
    "                valid_names=('validate','train'),\n",
    "                early_stopping_rounds = early_stop_rounds,\n",
    "                evals_result= results)"
   ]
  },
  {
   "cell_type": "code",
   "execution_count": 7,
   "metadata": {},
   "outputs": [
    {
     "data": {
      "text/plain": [
       "array([ 0.1931303 ,  0.53418087,  0.57603579,  0.50099789,  0.55426404,\n",
       "        0.55102906,  0.51473063,  0.53329354,  0.53329354,  0.59311616,\n",
       "        0.25982204,  0.49573711,  0.53921752,  0.24239056,  0.28271959,\n",
       "        0.02524547,  0.51844824,  0.02524547,  0.02524547,  0.02524547,\n",
       "        0.07855282,  0.02524547,  0.4593166 ,  0.55270372,  0.02524547,\n",
       "        0.58934934,  0.58934934,  0.1931303 ,  0.57603579,  0.02524547,\n",
       "        0.58934934,  0.02524547,  0.50141707,  0.16518063,  0.58048329,\n",
       "        0.1931303 ,  0.55361517,  0.16518063,  0.57980261,  0.02524547,\n",
       "        0.36036456,  0.59311616,  0.23862374,  0.58934934,  0.32473473,\n",
       "        0.02524547,  0.58934934,  0.52884603,  0.55935125,  0.02524547,\n",
       "        0.02524547,  0.07855282,  0.16518063,  0.53577178,  0.54302601,\n",
       "        0.58048329,  0.53706036,  0.54215959,  0.54215959,  0.02524547,\n",
       "        0.1931303 ,  0.02524547,  0.59311616,  0.56069689,  0.02524547,\n",
       "        0.54592641,  0.02524547,  0.02524547,  0.02524547,  0.53706036,\n",
       "        0.37143972,  0.02524547,  0.56644951,  0.42420714,  0.02524547,\n",
       "        0.53418087,  0.57037788,  0.43590347,  0.58934934,  0.59311616,\n",
       "        0.09683398,  0.02524547,  0.02524547,  0.58934934,  0.02524547,\n",
       "        0.56429236,  0.57603579,  0.58425012,  0.02524547,  0.02524547,\n",
       "        0.58934934,  0.26844828,  0.41027539,  0.02524547,  0.53706036,\n",
       "        0.51473063,  0.02524547,  0.36314475,  0.52205552,  0.57198412,\n",
       "        0.59311616,  0.51112535,  0.52884603,  0.51642192,  0.02524547,\n",
       "        0.46433421,  0.02524547,  0.45179564,  0.25863297,  0.16518063,\n",
       "        0.56190897,  0.02524547,  0.02524547,  0.37943118])"
      ]
     },
     "execution_count": 7,
     "metadata": {},
     "output_type": "execute_result"
    }
   ],
   "source": [
    "# 模型预测\n",
    "y_pred = gbm.predict(X_test, num_iteration=gbm.best_iteration)\n",
    "y_pred"
   ]
  },
  {
   "cell_type": "code",
   "execution_count": 8,
   "metadata": {},
   "outputs": [
    {
     "name": "stderr",
     "output_type": "stream",
     "text": [
      "C:\\Anaconda3\\lib\\site-packages\\ipykernel\\__main__.py:2: UserWarning: more than one metric available, picking one to plot.\n",
      "  from ipykernel import kernelapp as app\n"
     ]
    },
    {
     "data": {
      "image/png": "[encoded data removed]",
      "text/plain": [
       "<matplotlib.figure.Figure at 0x9eb50f0>"
      ]
     },
     "metadata": {},
     "output_type": "display_data"
    }
   ],
   "source": [
    "# 模型评估\n",
    "lgb.plot_metric(results)\n",
    "plt.show()"
   ]
  },
  {
   "cell_type": "code",
   "execution_count": 9,
   "metadata": {},
   "outputs": [
    {
     "data": {
      "image/png": "[encoded data removed]",
      "text/plain": [
       "<matplotlib.figure.Figure at 0x9fcee48>"
      ]
     },
     "metadata": {},
     "output_type": "display_data"
    }
   ],
   "source": [
    "# 绘制重要的特征\n",
    "lgb.plot_importance(gbm,importance_type = \"split\")\n",
    "plt.show()"
   ]
  },
  {
   "cell_type": "code",
   "execution_count": null,
   "metadata": {},
   "outputs": [],
   "source": []
  },
  {
   "cell_type": "code",
   "execution_count": null,
   "metadata": {
    "collapsed": true
   },
   "outputs": [],
   "source": []
  },
  {
   "cell_type": "code",
   "execution_count": null,
   "metadata": {
    "collapsed": true
   },
   "outputs": [],
   "source": []
  },
  {
   "cell_type": "code",
   "execution_count": null,
   "metadata": {
    "collapsed": true
   },
   "outputs": [],
   "source": []
  },
  {
   "cell_type": "code",
   "execution_count": null,
   "metadata": {
    "collapsed": true
   },
   "outputs": [],
   "source": []
  }
 ],
 "metadata": {
  "kernelspec": {
   "display_name": "Python 3",
   "language": "python",
   "name": "python3"
  },
  "language_info": {
   "codemirror_mode": {
    "name": "ipython",
    "version": 3
   },
   "file_extension": ".py",
   "mimetype": "text/x-python",
   "name": "python",
   "nbconvert_exporter": "python",
   "pygments_lexer": "ipython3",
   "version": "3.7.4"
  },
  "toc": {
   "base_numbering": 1,
   "nav_menu": {},
   "number_sections": true,
   "sideBar": true,
   "skip_h1_title": false,
   "title_cell": "Table of Contents",
   "title_sidebar": "Contents",
   "toc_cell": false,
   "toc_position": {},
   "toc_section_display": true,
   "toc_window_display": false
  }
 },
 "nbformat": 4,
 "nbformat_minor": 1
}
